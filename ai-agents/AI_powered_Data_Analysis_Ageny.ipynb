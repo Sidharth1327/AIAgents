{
 "cells": [
  {
   "cell_type": "markdown",
   "id": "244b9442",
   "metadata": {},
   "source": [
    "### AI-Powered Simple Data Analysis Agent\n",
    "\n",
    "\n",
    "Trying to build a lightweight **AI-driven analysis assistant** designed to interact with datasets through plain language queries. Instead of writing code or statistical formulas, users can pose questions in natural language and receive direct insights.\n",
    "\n",
    "#### *Rationale*\n",
    "Working with data often requires technical skills in programming or analytics. This project demonstrates how an agent can remove that barrier by translating everyday questions into structured operations, making data exploration faster and more approachable.\n",
    "\n",
    "#### *Design Overview*\n",
    "- **Demo Dataset**: A simulated car sales dataset is used as the working example.  \n",
    "- **Natural Language Interface**: A language model interprets user intent.  \n",
    "- **Analysis Engine**: Data operations are performed through an integrated framework.  \n",
    "- **Agent Layer**: Coordinates between the model and analysis tools to deliver results.  \n",
    "\n",
    "#### *Advantages*\n",
    "- **Lower entry barrier** – accessible to users without technical expertise  \n",
    "- **On-demand exploration** – quick answers to diverse questions  \n",
    "- **Adaptability** – applicable to different datasets and domains  \n",
    "\n",
    "#### *Closing Note*\n",
    "This agent illustrates how AI can serve as a bridge between raw data and decision-making, providing a more natural and inclusive way to interact with information.\n"
   ]
  },
  {
   "cell_type": "markdown",
   "id": "141f3767",
   "metadata": {},
   "source": [
    "#### Importing Libraries"
   ]
  },
  {
   "cell_type": "code",
   "execution_count": null,
   "id": "f0adc9c5",
   "metadata": {},
   "outputs": [],
   "source": [
    "\n",
    "import os\n",
    "from langchain_experimental.agents.agent_toolkits import create_pandas_dataframe_agent\n",
    "from langchain.agents import AgentType\n",
    "from langchain_openai import ChatOpenAI\n",
    "import pandas as pd\n",
    "import numpy as np\n",
    "from datetime import datetime, timedelta\n",
    "\n",
    "# Load environment variables\n",
    "from dotenv import load_dotenv\n",
    "import os\n",
    "\n",
    "# Load environment variables and set OpenAI API key\n",
    "load_dotenv()\n",
    "os.environ[\"OPENAI_API_KEY\"] = os.getenv('OPENAI_API_KEY')\n",
    "\n",
    "# Set a random seed for reproducibility\n",
    "np.random.seed(42)"
   ]
  },
  {
   "cell_type": "markdown",
   "id": "c77c94d1",
   "metadata": {},
   "source": [
    "#### Generating Sample Data "
   ]
  },
  {
   "cell_type": "code",
   "execution_count": null,
   "id": "872ab513",
   "metadata": {},
   "outputs": [],
   "source": [
    "# Generate sample data\n",
    "n_rows = 1000\n",
    "\n",
    "# Generate dates\n",
    "start_date = datetime(2022, 1, 1)\n",
    "dates = [start_date + timedelta(days=i) for i in range(n_rows)]\n",
    "\n",
    "# Define data categories\n",
    "makes = ['Toyota', 'Honda', 'Ford', 'Chevrolet', 'Nissan', 'BMW', 'Mercedes', 'Audi', 'Hyundai', 'Kia']\n",
    "models = ['Sedan', 'SUV', 'Truck', 'Hatchback', 'Coupe', 'Van']\n",
    "colors = ['Red', 'Blue', 'Black', 'White', 'Silver', 'Gray', 'Green']\n",
    "\n",
    "# Create the dataset\n",
    "data = {\n",
    "    'Date': dates,\n",
    "    'Make': np.random.choice(makes, n_rows),\n",
    "    'Model': np.random.choice(models, n_rows),\n",
    "    'Color': np.random.choice(colors, n_rows),\n",
    "    'Year': np.random.randint(2015, 2023, n_rows),\n",
    "    'Price': np.random.uniform(20000, 80000, n_rows).round(2),\n",
    "    'Mileage': np.random.uniform(0, 100000, n_rows).round(0),\n",
    "    'EngineSize': np.random.choice([1.6, 2.0, 2.5, 3.0, 3.5, 4.0], n_rows),\n",
    "    'FuelEfficiency': np.random.uniform(20, 40, n_rows).round(1),\n",
    "    'SalesPerson': np.random.choice(['Alice', 'Bob', 'Charlie', 'David', 'Eva'], n_rows)\n",
    "}\n",
    "\n",
    "# Create DataFrame and sort by date\n",
    "df = pd.DataFrame(data).sort_values('Date')\n",
    "\n",
    "# Display sample data and statistics\n",
    "print(\"\\nFirst few rows of the generated data:\")\n",
    "print(df.head())\n",
    "\n",
    "print(\"\\nDataFrame info:\")\n",
    "df.info()\n",
    "\n",
    "print(\"\\nSummary statistics:\")\n",
    "print(df.describe())"
   ]
  },
  {
   "cell_type": "markdown",
   "id": "9a9c6405",
   "metadata": {},
   "source": [
    "#### Creating the AI-Powered Simple Data Analysis Agent "
   ]
  },
  {
   "cell_type": "code",
   "execution_count": null,
   "id": "e1328fae",
   "metadata": {},
   "outputs": [],
   "source": [
    "# Create the Pandas DataFrame agent\n",
    "agent = create_pandas_dataframe_agent(\n",
    "    ChatOpenAI(model=\"gpt-4o\", temperature=0),\n",
    "    df,\n",
    "    verbose=True,\n",
    "    allow_dangerous_code=True,\n",
    "    agent_type=AgentType.OPENAI_FUNCTIONS,\n",
    ")\n",
    "print(\"Data Analysis Agent is ready. You can now ask questions about the data.\")"
   ]
  },
  {
   "cell_type": "markdown",
   "id": "0826332b",
   "metadata": {},
   "source": [
    "#### QA Function"
   ]
  },
  {
   "cell_type": "code",
   "execution_count": null,
   "id": "0af35cce",
   "metadata": {},
   "outputs": [],
   "source": [
    "def ask_agent(question):\n",
    "    \"\"\"Function to ask questions to the agent and display the response\"\"\"\n",
    "    response = agent.run({\n",
    "        \"input\": question,\n",
    "        \"agent_scratchpad\": f\"Human: {question}\\nAI: To answer this question, I need to use Python to analyze the dataframe. I'll use the python_repl_ast tool.\\n\\nAction: python_repl_ast\\nAction Input: \",\n",
    "    })\n",
    "    print(f\"Question: {question}\")\n",
    "    print(f\"Answer: {response}\")\n",
    "    print(\"---\")"
   ]
  },
  {
   "cell_type": "markdown",
   "id": "909d9de6",
   "metadata": {},
   "source": [
    "#### Testing"
   ]
  },
  {
   "cell_type": "code",
   "execution_count": null,
   "id": "cccfaab7",
   "metadata": {},
   "outputs": [],
   "source": [
    "\n",
    "# Example questions\n",
    "ask_agent(\"What are the column names in this dataset?\")\n",
    "ask_agent(\"How many rows are in this dataset?\")\n",
    "ask_agent(\"What is the average price of cars sold?\")"
   ]
  },
  {
   "cell_type": "markdown",
   "id": "f02267d2",
   "metadata": {},
   "source": [
    "## Summary\n",
    "\n",
    "This prototype shows how a language model can be combined with a dataset interface to answer natural language questions about structured data.  \n",
    "While effective as a teaching example, the following improvements could make the agent significantly more powerful and closer to production-grade:\n",
    "\n",
    "- ***Dataset Expansion***  \n",
    "  Move beyond a toy synthetic dataset (car sales) and connect to **real-world data sources** (CSV files, SQL databases, or APIs). This will make the agent applicable in practical business scenarios.  \n",
    "\n",
    "- ***Enhanced Query Parsing***  \n",
    "  Instead of relying only on the language model’s interpretation, integrate a **query translation layer** that converts natural language into **SQL or Pandas expressions** for more accurate and auditable operations.  \n",
    "\n",
    "- ***Advanced Analysis Tools***  \n",
    "  Extend capabilities to cover **visualizations (Matplotlib/Plotly)**, **statistical modeling (Scikit-learn, Statsmodels)**, or even **forecasting (Prophet, ARIMA)** to provide richer insights.  \n",
    "\n",
    "- ***Error Handling & User Guidance***  \n",
    "  Implement structured strategies for **ambiguous queries**, such as returning clarifying questions or offering suggested interpretations when the model is uncertain.  \n",
    "\n",
    "- ***Explainability***  \n",
    "  Add a mechanism to show the **underlying data operations** (e.g., the Pandas or SQL query executed) alongside the answer, improving transparency and trustworthiness.  \n",
    "\n",
    "- ***Scalability***  \n",
    "  Replace in-memory processing with **DuckDB, PostgreSQL, or BigQuery** connectors to handle larger datasets efficiently.  \n",
    "\n",
    "- ***External Knowledge Augmentation***  \n",
    "  Allow the agent to enrich answers with **external context** (e.g., industry benchmarks, documentation, or real-time APIs), making responses more insightful.  \n",
    "\n",
    "- ***UI / Accessibility***  \n",
    "  Wrap the agent in a lightweight interface (e.g., **Gradio, Streamlit, or Jupyter widgets**) so that non-technical users can interact without code.  \n",
    "\n",
    "---\n",
    "\n",
    "With these enhancements, the current demo could evolve from a simple proof-of-concept into a **multi-functional data analysis assistant** that is scalable, explainable, and practical for real-world adoption.\n"
   ]
  }
 ],
 "metadata": {
  "kernelspec": {
   "display_name": "Python 3",
   "language": "python",
   "name": "python3"
  },
  "language_info": {
   "codemirror_mode": {
    "name": "ipython",
    "version": 3
   },
   "file_extension": ".py",
   "mimetype": "text/x-python",
   "name": "python",
   "nbconvert_exporter": "python",
   "pygments_lexer": "ipython3",
   "version": "3.11.3"
  }
 },
 "nbformat": 4,
 "nbformat_minor": 5
}
